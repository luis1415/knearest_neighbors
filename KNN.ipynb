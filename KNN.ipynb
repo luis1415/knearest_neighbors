{
 "cells": [
  {
   "cell_type": "code",
   "execution_count": 22,
   "metadata": {},
   "outputs": [],
   "source": [
    "from numpy import random\n",
    "import numpy as np\n",
    "import matplotlib.pyplot as plt\n",
    "import seaborn\n",
    "\n",
    "seaborn.set()\n",
    "\n",
    "# se crea un array de 10 filas y dos columnas\n",
    "X = 100 * random.rand(10, 2)"
   ]
  },
  {
   "cell_type": "code",
   "execution_count": 23,
   "metadata": {},
   "outputs": [
    {
     "name": "stdout",
     "output_type": "stream",
     "text": [
      "[[ 14.22107514  11.01892942]\n",
      " [ 18.76554263  92.7458891 ]\n",
      " [ 62.34951347  51.28297685]\n",
      " [ 49.88548303  32.52494459]\n",
      " [ 50.5809069   95.00705253]\n",
      " [ 62.69789709  56.02330963]\n",
      " [ 40.28835689  74.17041458]\n",
      " [ 70.14439598  82.02691602]\n",
      " [ 89.59082089  25.34510311]\n",
      " [ 93.74432384  61.35029154]]\n"
     ]
    }
   ],
   "source": [
    "# se imprime el array aleatorio\n",
    "print(X)"
   ]
  },
  {
   "cell_type": "code",
   "execution_count": 24,
   "metadata": {},
   "outputs": [
    {
     "name": "stdout",
     "output_type": "stream",
     "text": [
      "[ 14.22107514  18.76554263  62.34951347  49.88548303  50.5809069\n",
      "  62.69789709  40.28835689  70.14439598  89.59082089  93.74432384]\n"
     ]
    }
   ],
   "source": [
    "# se imprimen las componentes x\n",
    "print(X[:, 0])"
   ]
  },
  {
   "cell_type": "code",
   "execution_count": 25,
   "metadata": {},
   "outputs": [
    {
     "name": "stdout",
     "output_type": "stream",
     "text": [
      "[ 11.01892942  92.7458891   51.28297685  32.52494459  95.00705253\n",
      "  56.02330963  74.17041458  82.02691602  25.34510311  61.35029154]\n"
     ]
    }
   ],
   "source": [
    "# se imprimen las componentes y\n",
    "print(X[:, 1])"
   ]
  },
  {
   "cell_type": "code",
   "execution_count": 26,
   "metadata": {},
   "outputs": [
    {
     "data": {
      "image/png": "[encoded data removed]",
      "text/plain": [
       "<matplotlib.figure.Figure at 0x7f89b00d6ef0>"
      ]
     },
     "metadata": {},
     "output_type": "display_data"
    }
   ],
   "source": [
    "# se hace un scatter de esos puntos, el parametro s es para el tamaño de las bolitas.\n",
    "plt.scatter(X[:, 0], X[:, 1], s=100)\n",
    "plt.show()"
   ]
  },
  {
   "cell_type": "code",
   "execution_count": 27,
   "metadata": {},
   "outputs": [
    {
     "data": {
      "text/plain": [
       "array([[[ 14.22107514,  11.01892942]],\n",
       "\n",
       "       [[ 18.76554263,  92.7458891 ]],\n",
       "\n",
       "       [[ 62.34951347,  51.28297685]],\n",
       "\n",
       "       [[ 49.88548303,  32.52494459]],\n",
       "\n",
       "       [[ 50.5809069 ,  95.00705253]],\n",
       "\n",
       "       [[ 62.69789709,  56.02330963]],\n",
       "\n",
       "       [[ 40.28835689,  74.17041458]],\n",
       "\n",
       "       [[ 70.14439598,  82.02691602]],\n",
       "\n",
       "       [[ 89.59082089,  25.34510311]],\n",
       "\n",
       "       [[ 93.74432384,  61.35029154]]])"
      ]
     },
     "execution_count": 27,
     "metadata": {},
     "output_type": "execute_result"
    }
   ],
   "source": [
    "X[:, np.newaxis, :]"
   ]
  },
  {
   "cell_type": "code",
   "execution_count": 19,
   "metadata": {},
   "outputs": [
    {
     "data": {
      "text/plain": [
       "array([[[ 0.75861314,  0.42178442],\n",
       "        [ 0.00113349,  0.50469248],\n",
       "        [ 0.24236796,  0.65477516],\n",
       "        [ 0.92355097,  0.22842074],\n",
       "        [ 0.84972032,  0.90530514],\n",
       "        [ 0.34937289,  0.39036564],\n",
       "        [ 0.59730727,  0.69935966],\n",
       "        [ 0.18878726,  0.07574047],\n",
       "        [ 0.59113159,  0.7921745 ],\n",
       "        [ 0.05974176,  0.26820544]]])"
      ]
     },
     "execution_count": 19,
     "metadata": {},
     "output_type": "execute_result"
    }
   ],
   "source": [
    "X[np.newaxis, :, :]"
   ]
  },
  {
   "cell_type": "code",
   "execution_count": 28,
   "metadata": {},
   "outputs": [
    {
     "name": "stdout",
     "output_type": "stream",
     "text": [
      "distancia\n",
      "[[    0.          6699.94812249  3937.54009049  1734.45867838\n",
      "   8376.04218805  4375.39650361  4667.6132548   8169.55197331\n",
      "   5885.83782575  8857.19309628]\n",
      " [ 6699.94812249     0.          3618.73560681  4595.01284748\n",
      "   1017.33026396  3278.59961123   808.27978725  2754.68295525\n",
      "   9559.08599211  6607.50117809]\n",
      " [ 3937.54009049  3618.73560681     0.           507.21582873\n",
      "   2050.29489476    22.59212605  1010.52943576  1005.9499892   1414.86212365\n",
      "   1086.98494351]\n",
      " [ 1734.45867838  4595.01284748   507.21582873     0.          3904.49742603\n",
      "    716.33111334  1826.45000036  2860.86872867  1628.06397806\n",
      "   2754.49854409]\n",
      " [ 8376.04218805  1017.33026396  2050.29489476  3904.49742603     0.\n",
      "   1666.55366144   540.10206683   551.21404851  6374.56058554\n",
      "   2995.85812178]\n",
      " [ 4375.39650361  3278.59961123    22.59212605   716.33111334\n",
      "   1666.55366144     0.           831.50491006   731.63789093\n",
      "   1664.38170565   992.25735046]\n",
      " [ 4667.6132548    808.27978725  1010.52943576  1826.45000036\n",
      "    540.10206683   831.50491006     0.           953.10768499\n",
      "   4814.64399636  3021.8959577 ]\n",
      " [ 8169.55197331  2754.68295525  1005.9499892   2860.86872867\n",
      "    551.21404851   731.63789093   953.10768499     0.          3590.99135637\n",
      "    984.47939495]\n",
      " [ 5885.83782575  9559.08599211  1414.86212365  1628.06397806\n",
      "   6374.56058554  1664.38170565  4814.64399636  3590.99135637     0.\n",
      "   1313.62518088]\n",
      " [ 8857.19309628  6607.50117809  1086.98494351  2754.49854409\n",
      "   2995.85812178   992.25735046  3021.8959577    984.47939495\n",
      "   1313.62518088     0.        ]]\n"
     ]
    }
   ],
   "source": [
    "# se calcula la distancia euclidea entre los puntos\n",
    "dist_sq = np.sum((X[:, np.newaxis, :] - X[np.newaxis, :, :]) ** 2, axis=-1)\n",
    "print(\"distancia\")\n",
    "print(dist_sq)"
   ]
  },
  {
   "cell_type": "code",
   "execution_count": 29,
   "metadata": {},
   "outputs": [
    {
     "name": "stdout",
     "output_type": "stream",
     "text": [
      "(10, 10, 2)\n"
     ]
    }
   ],
   "source": [
    "# for each pair of points, compute differences in their coordinates\n",
    "differences = X[:, np.newaxis, :] - X[np.newaxis, :, :]\n",
    "\n",
    "print(differences.shape)"
   ]
  },
  {
   "cell_type": "code",
   "execution_count": 33,
   "metadata": {},
   "outputs": [
    {
     "data": {
      "text/plain": [
       "(10, 10, 2)"
      ]
     },
     "execution_count": 33,
     "metadata": {},
     "output_type": "execute_result"
    }
   ],
   "source": [
    "# square the coordinate differences\n",
    "sq_differences = differences ** 2\n",
    "sq_differences.shape"
   ]
  },
  {
   "cell_type": "code",
   "execution_count": 34,
   "metadata": {},
   "outputs": [
    {
     "data": {
      "text/plain": [
       "(10, 10)"
      ]
     },
     "execution_count": 34,
     "metadata": {},
     "output_type": "execute_result"
    }
   ],
   "source": [
    "# sum the coordinate differences to get the squared distance\n",
    "dist_sq = sq_differences.sum(-1)\n",
    "dist_sq.shape"
   ]
  },
  {
   "cell_type": "code",
   "execution_count": 35,
   "metadata": {},
   "outputs": [
    {
     "data": {
      "text/plain": [
       "array([[    0.        ,  6699.94812249,  3937.54009049,  1734.45867838,\n",
       "         8376.04218805,  4375.39650361,  4667.6132548 ,  8169.55197331,\n",
       "         5885.83782575,  8857.19309628],\n",
       "       [ 6699.94812249,     0.        ,  3618.73560681,  4595.01284748,\n",
       "         1017.33026396,  3278.59961123,   808.27978725,  2754.68295525,\n",
       "         9559.08599211,  6607.50117809],\n",
       "       [ 3937.54009049,  3618.73560681,     0.        ,   507.21582873,\n",
       "         2050.29489476,    22.59212605,  1010.52943576,  1005.9499892 ,\n",
       "         1414.86212365,  1086.98494351],\n",
       "       [ 1734.45867838,  4595.01284748,   507.21582873,     0.        ,\n",
       "         3904.49742603,   716.33111334,  1826.45000036,  2860.86872867,\n",
       "         1628.06397806,  2754.49854409],\n",
       "       [ 8376.04218805,  1017.33026396,  2050.29489476,  3904.49742603,\n",
       "            0.        ,  1666.55366144,   540.10206683,   551.21404851,\n",
       "         6374.56058554,  2995.85812178],\n",
       "       [ 4375.39650361,  3278.59961123,    22.59212605,   716.33111334,\n",
       "         1666.55366144,     0.        ,   831.50491006,   731.63789093,\n",
       "         1664.38170565,   992.25735046],\n",
       "       [ 4667.6132548 ,   808.27978725,  1010.52943576,  1826.45000036,\n",
       "          540.10206683,   831.50491006,     0.        ,   953.10768499,\n",
       "         4814.64399636,  3021.8959577 ],\n",
       "       [ 8169.55197331,  2754.68295525,  1005.9499892 ,  2860.86872867,\n",
       "          551.21404851,   731.63789093,   953.10768499,     0.        ,\n",
       "         3590.99135637,   984.47939495],\n",
       "       [ 5885.83782575,  9559.08599211,  1414.86212365,  1628.06397806,\n",
       "         6374.56058554,  1664.38170565,  4814.64399636,  3590.99135637,\n",
       "            0.        ,  1313.62518088],\n",
       "       [ 8857.19309628,  6607.50117809,  1086.98494351,  2754.49854409,\n",
       "         2995.85812178,   992.25735046,  3021.8959577 ,   984.47939495,\n",
       "         1313.62518088,     0.        ]])"
      ]
     },
     "execution_count": 35,
     "metadata": {},
     "output_type": "execute_result"
    }
   ],
   "source": [
    "dist_sq"
   ]
  },
  {
   "cell_type": "code",
   "execution_count": 36,
   "metadata": {},
   "outputs": [
    {
     "data": {
      "text/plain": [
       "array([ 0.,  0.,  0.,  0.,  0.,  0.,  0.,  0.,  0.,  0.])"
      ]
     },
     "execution_count": 36,
     "metadata": {},
     "output_type": "execute_result"
    }
   ],
   "source": [
    "dist_sq.diagonal()"
   ]
  },
  {
   "cell_type": "code",
   "execution_count": 37,
   "metadata": {},
   "outputs": [
    {
     "name": "stdout",
     "output_type": "stream",
     "text": [
      "[[0 3 2 5 6 8 1 7 4 9]\n",
      " [1 6 4 7 5 2 3 9 0 8]\n",
      " [2 5 3 7 6 9 8 4 1 0]\n",
      " [3 2 5 8 0 6 9 7 4 1]\n",
      " [4 6 7 1 5 2 9 3 8 0]\n",
      " [5 2 3 7 6 9 8 4 1 0]\n",
      " [6 4 1 5 7 2 3 9 0 8]\n",
      " [7 4 5 6 9 2 1 3 8 0]\n",
      " [8 9 2 3 5 7 6 0 4 1]\n",
      " [9 7 5 2 8 3 4 6 1 0]]\n"
     ]
    }
   ],
   "source": [
    "nearest = np.argsort(dist_sq, axis=1)\n",
    "print(nearest)"
   ]
  },
  {
   "cell_type": "code",
   "execution_count": null,
   "metadata": {},
   "outputs": [],
   "source": []
  }
 ],
 "metadata": {
  "kernelspec": {
   "display_name": "Python 3",
   "language": "python",
   "name": "python3"
  },
  "language_info": {
   "codemirror_mode": {
    "name": "ipython",
    "version": 3
   },
   "file_extension": ".py",
   "mimetype": "text/x-python",
   "name": "python",
   "nbconvert_exporter": "python",
   "pygments_lexer": "ipython3",
   "version": "3.5.2"
  }
 },
 "nbformat": 4,
 "nbformat_minor": 2
}
